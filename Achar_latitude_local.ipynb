{
 "cells": [
  {
   "cell_type": "code",
   "execution_count": 1,
   "id": "df9a393c-3802-4aff-beb6-fe9e8772b414",
   "metadata": {},
   "outputs": [],
   "source": [
    "#\"GeocoderInsufficientPrivileges\" error - try to use 'Photon' instead of 'Nominatim'\n",
    "\n",
    "\n",
    "from geopy.geocoders import Photon\n",
    "from geopy.geocoders import Nominatim\n",
    "\n",
    "arq_nome=['São Paulo', 'Ararquara']\n"
   ]
  },
  {
   "cell_type": "code",
   "execution_count": 4,
   "id": "44efcfe9-2fb9-42af-b4ff-4290947c6d52",
   "metadata": {},
   "outputs": [
    {
     "name": "stdout",
     "output_type": "stream",
     "text": [
      "São Paulo, São Paulo, Brasil\n",
      "Endereço completo: São Paulo, São Paulo, Brasil\n",
      "Latitude: -23.5506507\n",
      "Longitude: -46.6333824\n",
      "Ararquara, São Paulo, Brasil\n",
      "Endereço completo: São Paulo, São Paulo, Brasil\n",
      "Latitude: -23.5506507\n",
      "Longitude: -46.6333824\n"
     ]
    }
   ],
   "source": [
    "\n",
    "salvar_lat_lon=[]\n",
    "for nome_inic in arq_nome:\n",
    "    # Nome do município que você deseja obter as coordenadas\n",
    "    nome= f'{nome_inic}, São Paulo, Brasil'\n",
    "    print(nome)\n",
    "    \n",
    "    # Criar um objeto geocoder (funcionava antigamente)\n",
    "    geolocator = Nominatim(user_agent=\"myGeocoder\")\n",
    "    #correcao do erro\n",
    "    geolocator = Photon(user_agent=\"measurements\")\n",
    "\n",
    "\n",
    "    # Obter a localização (coordenadas geográficas)\n",
    "    location = geolocator.geocode(nome)\n",
    "\n",
    "    if location:\n",
    "        print(\"Endereço completo:\", location.address)\n",
    "        print(\"Latitude:\", location.latitude)\n",
    "        print(\"Longitude:\", location.longitude)\n",
    "        lats= location.latitude\n",
    "        lons= location.longitude\n",
    "        \n",
    "    else:\n",
    "        print(\"Localização não encontrada.\")\n",
    "        \n",
    "    registros=[nome_inic,nome, lats, lons]\n",
    "    salvar_lat_lon.append(registros)\n",
    "    "
   ]
  },
  {
   "cell_type": "code",
   "execution_count": 6,
   "id": "c5c99f4f-c41b-4e55-a527-d2a22eed7e0e",
   "metadata": {},
   "outputs": [],
   "source": [
    "import pandas as pd\n",
    "arquivo_lat_lon= pd.DataFrame(salvar_lat_lon, columns=['nome','endereço', 'latitude', 'longitude'])"
   ]
  },
  {
   "cell_type": "code",
   "execution_count": 7,
   "id": "43971b15-0bda-4921-b282-33103e97aba4",
   "metadata": {},
   "outputs": [
    {
     "data": {
      "text/html": [
       "<div>\n",
       "<style scoped>\n",
       "    .dataframe tbody tr th:only-of-type {\n",
       "        vertical-align: middle;\n",
       "    }\n",
       "\n",
       "    .dataframe tbody tr th {\n",
       "        vertical-align: top;\n",
       "    }\n",
       "\n",
       "    .dataframe thead th {\n",
       "        text-align: right;\n",
       "    }\n",
       "</style>\n",
       "<table border=\"1\" class=\"dataframe\">\n",
       "  <thead>\n",
       "    <tr style=\"text-align: right;\">\n",
       "      <th></th>\n",
       "      <th>nome</th>\n",
       "      <th>endereço</th>\n",
       "      <th>latitude</th>\n",
       "      <th>longitude</th>\n",
       "    </tr>\n",
       "  </thead>\n",
       "  <tbody>\n",
       "    <tr>\n",
       "      <th>0</th>\n",
       "      <td>São Paulo</td>\n",
       "      <td>São Paulo, São Paulo, Brasil</td>\n",
       "      <td>-23.550651</td>\n",
       "      <td>-46.633382</td>\n",
       "    </tr>\n",
       "    <tr>\n",
       "      <th>1</th>\n",
       "      <td>Ararquara</td>\n",
       "      <td>Ararquara, São Paulo, Brasil</td>\n",
       "      <td>-23.550651</td>\n",
       "      <td>-46.633382</td>\n",
       "    </tr>\n",
       "  </tbody>\n",
       "</table>\n",
       "</div>"
      ],
      "text/plain": [
       "        nome                      endereço   latitude  longitude\n",
       "0  São Paulo  São Paulo, São Paulo, Brasil -23.550651 -46.633382\n",
       "1  Ararquara  Ararquara, São Paulo, Brasil -23.550651 -46.633382"
      ]
     },
     "metadata": {},
     "output_type": "display_data"
    }
   ],
   "source": [
    "display(arquivo_lat_lon)\n",
    "\n",
    "#arquivo_lat_lon.to_csv('cidade_latlon.csv', sep=';', index=False)"
   ]
  },
  {
   "cell_type": "code",
   "execution_count": null,
   "id": "62236424-8114-4dc5-9c30-a131e2251a38",
   "metadata": {},
   "outputs": [],
   "source": []
  }
 ],
 "metadata": {
  "kernelspec": {
   "display_name": "Python 3 (ipykernel)",
   "language": "python",
   "name": "python3"
  },
  "language_info": {
   "codemirror_mode": {
    "name": "ipython",
    "version": 3
   },
   "file_extension": ".py",
   "mimetype": "text/x-python",
   "name": "python",
   "nbconvert_exporter": "python",
   "pygments_lexer": "ipython3",
   "version": "3.9.18"
  }
 },
 "nbformat": 4,
 "nbformat_minor": 5
}
